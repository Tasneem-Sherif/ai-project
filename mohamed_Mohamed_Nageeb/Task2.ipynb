{
 "cells": [
  {
   "cell_type": "markdown",
   "metadata": {},
   "source": [
    "Question 1"
   ]
  },
  {
   "cell_type": "code",
   "execution_count": 7,
   "metadata": {},
   "outputs": [
    {
     "name": "stdout",
     "output_type": "stream",
     "text": [
      "Number of items in Tuple is: 2 and Tuple is (1, 2)\n"
     ]
    }
   ],
   "source": [
    "def Add_Tuple():  \n",
    "    # Enter number of items in tuple\n",
    "    no_of_item = int(input(\"Enter number of items in tuple: \"))\n",
    "\n",
    "    # Empty list\n",
    "    Mylist = []\n",
    "\n",
    "    for x in range(no_of_item):\n",
    "        # Enter integer number \n",
    "        item = int(input(\"Enter item: \"))\n",
    "\n",
    "        # Append the item to the list\n",
    "        Mylist.append(item)\n",
    "\n",
    "    # Convert list to tuple\n",
    "    MyTuple = tuple(Mylist)\n",
    "\n",
    "    return no_of_item, MyTuple\n",
    "\n",
    "# Get tuple data\n",
    "num_items, my_tuple = Add_Tuple()\n",
    "\n",
    "# Print tuple correctly\n",
    "print(\"Number of items in Tuple is: {} and Tuple is {}\".format(num_items, my_tuple))\n"
   ]
  },
  {
   "cell_type": "markdown",
   "metadata": {},
   "source": [
    "Question 2"
   ]
  },
  {
   "cell_type": "code",
   "execution_count": 12,
   "metadata": {},
   "outputs": [
    {
     "name": "stdout",
     "output_type": "stream",
     "text": [
      "The sum of  items in the list = 15\n"
     ]
    }
   ],
   "source": [
    "def sum_list(List):\n",
    "    Sum = 0\n",
    "    for x in List:\n",
    "        Sum = Sum + x  # sum items in list\n",
    "    \n",
    "    return Sum\n",
    "\n",
    "mylist = [1, 2, 3, 4, 5]\n",
    "result = sum_list(mylist)\n",
    "print(\"The sum of  items in the list =\", result)\n"
   ]
  },
  {
   "cell_type": "markdown",
   "metadata": {},
   "source": [
    "Question 3"
   ]
  },
  {
   "cell_type": "code",
   "execution_count": 14,
   "metadata": {},
   "outputs": [
    {
     "name": "stdout",
     "output_type": "stream",
     "text": [
      "The multiply of items in the list = 120\n"
     ]
    }
   ],
   "source": [
    "def multiply_list(List):\n",
    "    multi = 1\n",
    "    for x in List:\n",
    "        multi = multi * x  # Multiply items in list\n",
    "    \n",
    "    return multi\n",
    "\n",
    "mylist = [1, 2, 3, 4, 5]\n",
    "result = multiply_list(mylist)\n",
    "print(\"The multiply of items in the list =\", result)\n"
   ]
  },
  {
   "cell_type": "markdown",
   "metadata": {},
   "source": [
    "Question 4"
   ]
  },
  {
   "cell_type": "code",
   "execution_count": 15,
   "metadata": {},
   "outputs": [
    {
     "name": "stdout",
     "output_type": "stream",
     "text": [
      "The small items in the list =  1\n"
     ]
    }
   ],
   "source": [
    "def small_item(List):\n",
    "    small = min(List)\n",
    "    \n",
    "    return small\n",
    "\n",
    "mylist = [1, 2, 3, 4, 5]\n",
    "result = small_item(mylist)\n",
    "print(\"The small items in the list = \", result)\n"
   ]
  },
  {
   "cell_type": "markdown",
   "metadata": {},
   "source": [
    "Question 5"
   ]
  },
  {
   "cell_type": "code",
   "execution_count": 16,
   "metadata": {},
   "outputs": [
    {
     "name": "stdout",
     "output_type": "stream",
     "text": [
      "The big items in the list =  5\n"
     ]
    }
   ],
   "source": [
    "def Large_item(List):\n",
    "    large = max(List)\n",
    "    \n",
    "    return large\n",
    "\n",
    "mylist = [1, 2, 3, 4, 5]\n",
    "result = Large_item(mylist)\n",
    "print(\"The big items in the list = \", result)\n"
   ]
  },
  {
   "cell_type": "markdown",
   "metadata": {},
   "source": [
    "Question 6"
   ]
  },
  {
   "cell_type": "code",
   "execution_count": 1,
   "metadata": {},
   "outputs": [
    {
     "name": "stdout",
     "output_type": "stream",
     "text": [
      "The number of strings is :  4\n"
     ]
    }
   ],
   "source": [
    "List = ['ahmed','mohamed','ali','yousef']\n",
    "Count = len(List)\n",
    "print(\"The number of strings is : \",Count)"
   ]
  },
  {
   "cell_type": "markdown",
   "metadata": {},
   "source": [
    "Question 7"
   ]
  },
  {
   "cell_type": "code",
   "execution_count": 2,
   "metadata": {},
   "outputs": [
    {
     "name": "stdout",
     "output_type": "stream",
     "text": [
      "['apple', 'banana', 'cherry']\n"
     ]
    }
   ],
   "source": [
    "List = [\"apple\", \"banana\", \"cherry\"]\n",
    "mylist = List.copy()\n",
    "print(mylist)"
   ]
  },
  {
   "cell_type": "markdown",
   "metadata": {},
   "source": [
    "Question 8"
   ]
  },
  {
   "cell_type": "code",
   "execution_count": 3,
   "metadata": {},
   "outputs": [
    {
     "name": "stdout",
     "output_type": "stream",
     "text": [
      "{'cherry', 'apple'}\n"
     ]
    }
   ],
   "source": [
    "Set = {\"apple\", \"banana\", \"cherry\"}\n",
    "\n",
    "Set.remove(\"banana\")\n",
    "\n",
    "print(Set)"
   ]
  },
  {
   "cell_type": "code",
   "execution_count": null,
   "metadata": {},
   "outputs": [],
   "source": []
  }
 ],
 "metadata": {
  "kernelspec": {
   "display_name": "Python 3",
   "language": "python",
   "name": "python3"
  },
  "language_info": {
   "codemirror_mode": {
    "name": "ipython",
    "version": 3
   },
   "file_extension": ".py",
   "mimetype": "text/x-python",
   "name": "python",
   "nbconvert_exporter": "python",
   "pygments_lexer": "ipython3",
   "version": "3.13.2"
  }
 },
 "nbformat": 4,
 "nbformat_minor": 2
}
