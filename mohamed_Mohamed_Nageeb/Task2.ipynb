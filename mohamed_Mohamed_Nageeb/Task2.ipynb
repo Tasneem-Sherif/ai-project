{
 "cells": [
  {
   "cell_type": "markdown",
   "metadata": {},
   "source": [
    "Question 1"
   ]
  },
  {
   "cell_type": "code",
   "execution_count": 7,
   "metadata": {},
   "outputs": [
    {
     "name": "stdout",
     "output_type": "stream",
     "text": [
      "Number of items in Tuple is: 2 and Tuple is (1, 2)\n"
     ]
    }
   ],
   "source": [
    "def Add_Tuple():  \n",
    "    # Enter number of items in tuple\n",
    "    no_of_item = int(input(\"Enter number of items in tuple: \"))\n",
    "\n",
    "    # Empty list\n",
    "    Mylist = []\n",
    "\n",
    "    for x in range(no_of_item):\n",
    "        # Enter integer number \n",
    "        item = int(input(\"Enter item: \"))\n",
    "\n",
    "        # Append the item to the list\n",
    "        Mylist.append(item)\n",
    "\n",
    "    # Convert list to tuple\n",
    "    MyTuple = tuple(Mylist)\n",
    "\n",
    "    return no_of_item, MyTuple\n",
    "\n",
    "# Get tuple data\n",
    "num_items, my_tuple = Add_Tuple()\n",
    "\n",
    "# Print tuple correctly\n",
    "print(\"Number of items in Tuple is: {} and Tuple is {}\".format(num_items, my_tuple))\n"
   ]
  },
  {
   "cell_type": "markdown",
   "metadata": {},
   "source": [
    "Question 2"
   ]
  },
  {
   "cell_type": "code",
   "execution_count": 12,
   "metadata": {},
   "outputs": [
    {
     "name": "stdout",
     "output_type": "stream",
     "text": [
      "The sum of  items in the list = 15\n"
     ]
    }
   ],
   "source": [
    "def sum_list(List):\n",
    "    Sum = 0\n",
    "    for x in List:\n",
    "        Sum = Sum + x  # sum items in list\n",
    "    \n",
    "    return Sum\n",
    "\n",
    "mylist = [1, 2, 3, 4, 5]\n",
    "result = sum_list(mylist)\n",
    "print(\"The sum of  items in the list =\", result)\n"
   ]
  },
  {
   "cell_type": "markdown",
   "metadata": {},
   "source": [
    "Question 3"
   ]
  },
  {
   "cell_type": "code",
   "execution_count": 14,
   "metadata": {},
   "outputs": [
    {
     "name": "stdout",
     "output_type": "stream",
     "text": [
      "The multiply of items in the list = 120\n"
     ]
    }
   ],
   "source": [
    "def multiply_list(List):\n",
    "    multi = 1\n",
    "    for x in List:\n",
    "        multi = multi * x  # Multiply items in list\n",
    "    \n",
    "    return multi\n",
    "\n",
    "mylist = [1, 2, 3, 4, 5]\n",
    "result = multiply_list(mylist)\n",
    "print(\"The multiply of items in the list =\", result)\n"
   ]
  },
  {
   "cell_type": "markdown",
   "metadata": {},
   "source": [
    "Question 4"
   ]
  },
  {
   "cell_type": "code",
   "execution_count": 15,
   "metadata": {},
   "outputs": [
    {
     "name": "stdout",
     "output_type": "stream",
     "text": [
      "The small items in the list =  1\n"
     ]
    }
   ],
   "source": [
    "def small_item(List):\n",
    "    small = min(List)\n",
    "    \n",
    "    return small\n",
    "\n",
    "mylist = [1, 2, 3, 4, 5]\n",
    "result = small_item(mylist)\n",
    "print(\"The small items in the list = \", result)\n"
   ]
  },
  {
   "cell_type": "markdown",
   "metadata": {},
   "source": [
    "Question 5"
   ]
  },
  {
   "cell_type": "code",
   "execution_count": 16,
   "metadata": {},
   "outputs": [
    {
     "name": "stdout",
     "output_type": "stream",
     "text": [
      "The big items in the list =  5\n"
     ]
    }
   ],
   "source": [
    "def Large_item(List):\n",
    "    large = max(List)\n",
    "    \n",
    "    return large\n",
    "\n",
    "mylist = [1, 2, 3, 4, 5]\n",
    "result = Large_item(mylist)\n",
    "print(\"The big items in the list = \", result)\n"
   ]
  },
  {
   "cell_type": "markdown",
   "metadata": {},
   "source": [
    "Question 6"
   ]
  },
  {
   "cell_type": "code",
   "execution_count": 1,
   "metadata": {},
   "outputs": [
    {
     "name": "stdout",
     "output_type": "stream",
     "text": [
      "The number of strings is :  4\n"
     ]
    }
   ],
   "source": [
    "List = ['ahmed','mohamed','ali','yousef']\n",
    "Count = len(List)\n",
    "print(\"The number of strings is : \",Count)"
   ]
  },
  {
   "cell_type": "markdown",
   "metadata": {},
   "source": [
    "Question 7"
   ]
  },
  {
   "cell_type": "code",
   "execution_count": 2,
   "metadata": {},
   "outputs": [
    {
     "name": "stdout",
     "output_type": "stream",
     "text": [
      "['apple', 'banana', 'cherry']\n"
     ]
    }
   ],
   "source": [
    "List = [\"apple\", \"banana\", \"cherry\"]\n",
    "mylist = List.copy()\n",
    "print(mylist)"
   ]
  },
  {
   "cell_type": "markdown",
   "metadata": {},
   "source": [
    "Question 8"
   ]
  },
  {
   "cell_type": "code",
   "execution_count": 3,
   "metadata": {},
   "outputs": [
    {
     "name": "stdout",
     "output_type": "stream",
     "text": [
      "{'cherry', 'apple'}\n"
     ]
    }
   ],
   "source": [
    "Set = {\"apple\", \"banana\", \"cherry\"}\n",
    "\n",
    "Set.remove(\"banana\")\n",
    "\n",
    "print(Set)"
   ]
  },
  {
   "cell_type": "markdown",
   "metadata": {},
   "source": [
    "Question 9"
   ]
  },
  {
   "cell_type": "code",
   "execution_count": 1,
   "metadata": {},
   "outputs": [
    {
     "name": "stdout",
     "output_type": "stream",
     "text": [
      "True\n",
      "False\n"
     ]
    }
   ],
   "source": [
    "def is_subset(set1, set2):\n",
    "    \"\"\"\n",
    "    Function to check if set1 is a subset of set2.\n",
    "    param set1: First set (potential subset)\n",
    "    param set2: Second set (potential superset)\n",
    "    return: True if set1 is a subset of set2, otherwise False\n",
    "    \"\"\"\n",
    "    return set1.issubset(set2)\n",
    "\n",
    "# Example usage\n",
    "a = {1, 2, 3}\n",
    "b = {1, 2, 3, 4, 5}\n",
    "\n",
    "print(is_subset(a, b))  # Output: True\n",
    "print(is_subset(b, a))  # Output: False\n"
   ]
  },
  {
   "cell_type": "markdown",
   "metadata": {},
   "source": [
    "Question 10"
   ]
  },
  {
   "cell_type": "code",
   "execution_count": 5,
   "metadata": {},
   "outputs": [
    {
     "name": "stdout",
     "output_type": "stream",
     "text": [
      "Original set elements: {'Black', 'Red', 'Green', 'White'}\n",
      "\n",
      "After removing all elements of the said set.\n",
      "set()\n"
     ]
    }
   ],
   "source": [
    "a = {\"Red\", \"Green\", \"Black\", \"White\"}\n",
    "\n",
    "# Print the contents of 'a'.\n",
    "print(f\"Original set elements: {a}\")\n",
    "\n",
    "print(\"\\nAfter removing all elements of the said set.\")\n",
    "\n",
    "#'clear()' method to remove all elements from 'a'.\n",
    "a.clear()\n",
    "\n",
    "# Print 'setc' after clearing, which will be an empty set.\n",
    "print(a) "
   ]
  },
  {
   "cell_type": "markdown",
   "metadata": {},
   "source": [
    "Question 10"
   ]
  },
  {
   "cell_type": "code",
   "execution_count": 4,
   "metadata": {},
   "outputs": [
    {
     "name": "stdout",
     "output_type": "stream",
     "text": [
      "Original set elements:{2, 3, 20, 5, 10, 15}\n",
      "\n",
      "Maximum value of the given set: 20\n",
      "\n",
      "Minimum value of the given set:2\n"
     ]
    }
   ],
   "source": [
    "x = {5, 10, 3, 15, 2, 20}\n",
    "\n",
    "print(f\"Original set elements:{x}\")\n",
    "\n",
    "#'max()' function to find and print the maximum value in 'x'.\n",
    "print(f\"\\nMaximum value of the given set: {max(x)}\")\n",
    "\n",
    "#'min()' function to find and print the minimum value in 'x'.\n",
    "print(f\"\\nMinimum value of the given set:{min(x)}\")"
   ]
  },
  {
   "cell_type": "markdown",
   "metadata": {},
   "source": [
    "Question 12"
   ]
  },
  {
   "cell_type": "code",
   "execution_count": 7,
   "metadata": {},
   "outputs": [
    {
     "name": "stdout",
     "output_type": "stream",
     "text": [
      "The item founded  : 1\n"
     ]
    }
   ],
   "source": [
    "# tuple containing vowels\n",
    "x = ('a', 'e', 'i', 'o', 'u')\n",
    "\n",
    "# index of 'e' in vowels\n",
    "index = x.index('e')\n",
    "\n",
    "print(f\"The item founded  : {index }\")"
   ]
  },
  {
   "cell_type": "markdown",
   "metadata": {},
   "source": [
    "Question 13"
   ]
  },
  {
   "cell_type": "code",
   "execution_count": 10,
   "metadata": {},
   "outputs": [
    {
     "name": "stdout",
     "output_type": "stream",
     "text": [
      "The dictionary is {'akash': [10], 'gaurav': [12], 'anand': [14], 'suraj': [20], 'akhil': [25], 'ashish': [30]}\n"
     ]
    }
   ],
   "source": [
    "List = [(\"akash\", 10), (\"gaurav\", 12), (\"anand\", 14), \n",
    "      (\"suraj\", 20), (\"akhil\", 25), (\"ashish\", 30)]\n",
    "d = {}\n",
    "\n",
    "for a, b in List:\n",
    "    if a not in d:\n",
    "        #initializes an empty list for that key\n",
    "        d[a] = []\n",
    "    #appends the value b to the list corresponding to the key a\n",
    "    d[a].append(b)\n",
    "\n",
    "print(f\"The dictionary is {d}\")\n"
   ]
  },
  {
   "cell_type": "markdown",
   "metadata": {},
   "source": [
    "Question 14"
   ]
  },
  {
   "cell_type": "code",
   "execution_count": 11,
   "metadata": {},
   "outputs": [
    {
     "name": "stdout",
     "output_type": "stream",
     "text": [
      "['a', 'b']\n",
      "[1, 4]\n"
     ]
    }
   ],
   "source": [
    "x = [('a', 1), ('b', 4)]\n",
    "\n",
    "# zip() with * to unzip the list\n",
    "a, b = zip(*x)\n",
    "\n",
    "# Convert the results to lists\n",
    "a = list(a)\n",
    "b = list(b)\n",
    "\n",
    "print(a)\n",
    "print(b)\n"
   ]
  },
  {
   "cell_type": "markdown",
   "metadata": {},
   "source": [
    "Question 15"
   ]
  },
  {
   "cell_type": "code",
   "execution_count": 14,
   "metadata": {},
   "outputs": [
    {
     "name": "stdout",
     "output_type": "stream",
     "text": [
      "the Reverse tuple : (5, 4, 3, 2, 1)\n"
     ]
    }
   ],
   "source": [
    "x = (1, 2, 3, 4, 5)  \n",
    "# Reverse the tuple using the built-in reversed() function and convert it back to a tuple\n",
    "#rev = reversed(x) ==> <reversed object at 0x0000029F7CB356C0>\n",
    "rev = tuple(reversed(x))\n",
    "print(f\"the Reverse tuple : {rev}\")  \n"
   ]
  },
  {
   "cell_type": "markdown",
   "metadata": {},
   "source": [
    "Question 16"
   ]
  },
  {
   "cell_type": "code",
   "execution_count": 15,
   "metadata": {},
   "outputs": [
    {
     "name": "stdout",
     "output_type": "stream",
     "text": [
      "The dictionary from list of Tuple : {'a': 1, 'b': 2, 'c': 3}\n"
     ]
    }
   ],
   "source": [
    "# List of tuples where each tuple represents a key-value pair\n",
    "a = [(\"a\", 1), (\"b\", 2), (\"c\", 3)]\n",
    "\n",
    "# Convert the list of tuples into a dictionary\n",
    "result = dict(a)\n",
    "\n",
    "print(f\"The dictionary from list of Tuple : {result}\") \n"
   ]
  },
  {
   "cell_type": "markdown",
   "metadata": {},
   "source": [
    "Question 17"
   ]
  },
  {
   "cell_type": "code",
   "execution_count": 16,
   "metadata": {},
   "outputs": [
    {
     "name": "stdout",
     "output_type": "stream",
     "text": [
      "[(10, 20, 100), (40, 50, 100), (70, 80, 100)]\n"
     ]
    }
   ],
   "source": [
    "# Create a list of tuples, where each tuple contains three numbers.\n",
    "l = [(10, 20, 40), (40, 50, 60), (70, 80, 90)]\n",
    "\n",
    "# Use a list comprehension to iterate through each tuple 't' in the list 'l'.\n",
    "# For each tuple, create a new tuple by removing the last element and adding the number 100.\n",
    "# The result is a list of modified tuples.\n",
    "print([t[:-1] + (100,) for t in l]) \n"
   ]
  },
  {
   "cell_type": "markdown",
   "metadata": {},
   "source": [
    "Question 18"
   ]
  },
  {
   "cell_type": "code",
   "execution_count": 17,
   "metadata": {},
   "outputs": [
    {
     "name": "stdout",
     "output_type": "stream",
     "text": [
      "[('256', '456.864'), ('932', '345.743'), ('246', '83.367'), ('638', '54.865'), ('843', '35.285')]\n"
     ]
    }
   ],
   "source": [
    "def sort(tuple):\n",
    "# sorting in descending order by setting reverse as true using float elements\n",
    "   tuple.sort(key = lambda x: float(x[1]), reverse = True)\n",
    "   print(tuple)\n",
    "# The driver Code\n",
    "tuple = [('638', '54.865'), ('932', '345.743'), ('256', '456.864'), ('843', '35.285'), ('246', '83.367')]\n",
    "sort(tuple)"
   ]
  }
 ],
 "metadata": {
  "kernelspec": {
   "display_name": "Python 3",
   "language": "python",
   "name": "python3"
  },
  "language_info": {
   "codemirror_mode": {
    "name": "ipython",
    "version": 3
   },
   "file_extension": ".py",
   "mimetype": "text/x-python",
   "name": "python",
   "nbconvert_exporter": "python",
   "pygments_lexer": "ipython3",
   "version": "3.13.2"
  }
 },
 "nbformat": 4,
 "nbformat_minor": 2
}
