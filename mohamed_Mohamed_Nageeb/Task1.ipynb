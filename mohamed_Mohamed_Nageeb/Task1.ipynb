{
 "cells": [
  {
   "cell_type": "code",
   "execution_count": 8,
   "metadata": {},
   "outputs": [
    {
     "name": "stdout",
     "output_type": "stream",
     "text": [
      "The email is valid. The username is Amit_ml, the domain is gmail, and the end domain is educational domain.\n"
     ]
    }
   ],
   "source": [
    "def Email_Adress(email):\n",
    "    # Check for validation\n",
    "    if \"@\" in email and \".\" in email.split(\"@\")[-1]:\n",
    "        part1 = True\n",
    "    else:\n",
    "        part1 = False\n",
    "\n",
    "    if not part1:\n",
    "        return part1  # Return validation fails\n",
    "\n",
    "    # Extract username and domain and end domain\n",
    "    part2, domain_with = email.split(\"@\", 1)\n",
    "    part3, tld = domain_with.split(\".\", 1)  \n",
    "\n",
    "    if tld == \"com\":\n",
    "        part4 = \"commercial domain\"\n",
    "    elif tld == \"edu\":\n",
    "        part4 = \"educational domain\"\n",
    "    else:\n",
    "        part4 = \"other domain\"\n",
    "\n",
    "    return part1, part2, part3, part4\n",
    "\n",
    "# Enter user email\n",
    "Email = input(\"Please enter your email: \")\n",
    "Validation, Username, Domain, End_Domain = Email_Adress(Email)\n",
    "\n",
    "if Validation:\n",
    "    print(f\"The email is valid. The username is {Username}, the domain is {Domain}, and the end domain is {End_Domain}.\")\n",
    "else:\n",
    "    print(\"Invalid email \")\n"
   ]
  }
 ],
 "metadata": {
  "kernelspec": {
   "display_name": "Python 3",
   "language": "python",
   "name": "python3"
  },
  "language_info": {
   "codemirror_mode": {
    "name": "ipython",
    "version": 3
   },
   "file_extension": ".py",
   "mimetype": "text/x-python",
   "name": "python",
   "nbconvert_exporter": "python",
   "pygments_lexer": "ipython3",
   "version": "3.13.2"
  }
 },
 "nbformat": 4,
 "nbformat_minor": 2
}
