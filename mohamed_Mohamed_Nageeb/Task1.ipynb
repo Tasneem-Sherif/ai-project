{
 "cells": [
  {
   "cell_type": "code",
   "execution_count": 9,
   "metadata": {},
   "outputs": [
    {
     "name": "stdout",
     "output_type": "stream",
     "text": [
      "The email is valid. The username is mmnageeb6, the domain is mail, and the end domain is commercial domain.\n"
     ]
    }
   ],
   "source": [
    "def Email_Adress(email):\n",
    "    # Check for validation\n",
    "    part1 = False\n",
    "    for x in email:\n",
    "        if x == '@':\n",
    "            for y in email:\n",
    "                if y == '.':\n",
    "                    part1 = True  \n",
    "                    break  # Exit loop once '.' is found\n",
    "            break  # Exit loop once '@' is found\n",
    "\n",
    "    if not part1:\n",
    "        return part1  # Return False if validation fails\n",
    "\n",
    "    # Extract username and domain\n",
    "    part2, domain_with = email.split(\"@\", 1)\n",
    "    part3, tld = domain_with.split(\".\", 1)  # Use split to handle multiple dots\n",
    "\n",
    "    # Determine end domain\n",
    "    if tld == \"com\":\n",
    "        part4 = \"commercial domain\"\n",
    "    elif tld == \"edu\":\n",
    "        part4 = \"educational domain\"\n",
    "    else:\n",
    "        part4 = \"other domain\"\n",
    "\n",
    "    return part1, part2, part3, part4\n",
    "\n",
    "# Enter user email\n",
    "Email = input(\"Please enter your email: \")\n",
    "\n",
    "result = Email_Adress(Email)\n",
    "\n",
    "if isinstance(result, tuple):  # Check if result is a tuple (valid email)\n",
    "    Validation, Username, Domain, End_Domain = result\n",
    "    print(f\"The email is valid. The username is {Username}, the domain is {Domain}, and the end domain is {End_Domain}.\")\n",
    "else:\n",
    "    print(\"Invalid email\")\n"
   ]
  }
 ],
 "metadata": {
  "kernelspec": {
   "display_name": "Python 3",
   "language": "python",
   "name": "python3"
  },
  "language_info": {
   "codemirror_mode": {
    "name": "ipython",
    "version": 3
   },
   "file_extension": ".py",
   "mimetype": "text/x-python",
   "name": "python",
   "nbconvert_exporter": "python",
   "pygments_lexer": "ipython3",
   "version": "3.13.2"
  }
 },
 "nbformat": 4,
 "nbformat_minor": 2
}
