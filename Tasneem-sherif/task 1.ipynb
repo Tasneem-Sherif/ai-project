{
 "cells": [
  {
   "cell_type": "code",
   "execution_count": 1,
   "metadata": {},
   "outputs": [
    {
     "name": "stdout",
     "output_type": "stream",
     "text": [
      "Username: tasneemshreif02\n",
      "Domain: gmail\n",
      "Domain Type: Commercial Domain\n"
     ]
    }
   ],
   "source": [
    "x = input(\"Enter your email: \")  \n",
    "\n",
    "if \"@\" not in x or \".\" not in x:  \n",
    "    print(\"Invalid Email\")  \n",
    "\n",
    "domain = x[x.index(\"@\") + 1 : x.index(\".\")]  \n",
    "username = x[:x.index(\"@\")]  \n",
    "\n",
    "\n",
    "last_part = x[x.index(\".\"):]  \n",
    "\n",
    "if last_part == \".com\":  \n",
    "    domain_type = \"Commercial Domain\"  \n",
    "elif last_part == \".edu\":  \n",
    "    domain_type = \"Educational Domain\"  \n",
    "else:  \n",
    "    domain_type = \"Other Domain\"  \n",
    "\n",
    " \n",
    "print(\"Username:\", username)  \n",
    "print(\"Domain:\", domain)  \n",
    "print(\"Domain Type:\", domain_type)  \n"
   ]
  }
 ],
 "metadata": {
  "kernelspec": {
   "display_name": "Python 3",
   "language": "python",
   "name": "python3"
  },
  "language_info": {
   "codemirror_mode": {
    "name": "ipython",
    "version": 3
   },
   "file_extension": ".py",
   "mimetype": "text/x-python",
   "name": "python",
   "nbconvert_exporter": "python",
   "pygments_lexer": "ipython3",
   "version": "3.11.9"
  }
 },
 "nbformat": 4,
 "nbformat_minor": 2
}
