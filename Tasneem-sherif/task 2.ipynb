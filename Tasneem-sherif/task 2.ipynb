{
 "cells": [
  {
   "cell_type": "code",
   "execution_count": null,
   "metadata": {},
   "outputs": [],
   "source": [
    "\n",
    "def my_tuple(x):\n",
    "    t = (1, 2, 3, 4, 5, 6, 7, 8, 9, 10, x)\n",
    "    return t\n",
    "\n",
    "x = float(input(\"Enter a number: \"))\n",
    "print(my_tuple(x))\n"
   ]
  },
  {
   "cell_type": "code",
   "execution_count": null,
   "metadata": {},
   "outputs": [
    {
     "data": {
      "text/plain": [
       "116"
      ]
     },
     "execution_count": 25,
     "metadata": {},
     "output_type": "execute_result"
    }
   ],
   "source": [
    "list= [1,2,3,55,55]\n",
    "\n",
    "def sum(list):\n",
    "    list1 = 0\n",
    "    for x in list:\n",
    "       list1 += x\n",
    "    return list1\n",
    "\n",
    "sum(list)"
   ]
  },
  {
   "cell_type": "code",
   "execution_count": null,
   "metadata": {},
   "outputs": [
    {
     "data": {
      "text/plain": [
       "18150"
      ]
     },
     "execution_count": 26,
     "metadata": {},
     "output_type": "execute_result"
    }
   ],
   "source": [
    "list= [1,2,3,55,55]\n",
    "\n",
    "def sum(list):\n",
    "    list1 = 1\n",
    "    for x in list:\n",
    "       list1 *= x\n",
    "    return list1\n",
    "\n",
    "sum(list)"
   ]
  },
  {
   "cell_type": "code",
   "execution_count": null,
   "metadata": {},
   "outputs": [
    {
     "data": {
      "text/plain": [
       "3"
      ]
     },
     "execution_count": 34,
     "metadata": {},
     "output_type": "execute_result"
    }
   ],
   "source": [
    "list = [6, 3, 4, 5, 6, 7, 8, 9, 10]\n",
    "\n",
    "def find_min(list):\n",
    "\n",
    "    return min(list)\n",
    "  \n",
    "\n",
    "find_min(list)"
   ]
  },
  {
   "cell_type": "code",
   "execution_count": null,
   "metadata": {},
   "outputs": [
    {
     "data": {
      "text/plain": [
       "10"
      ]
     },
     "execution_count": 35,
     "metadata": {},
     "output_type": "execute_result"
    }
   ],
   "source": [
    "list = [6, 3, 4, 5, 6, 7, 8, 9, 10]\n",
    "\n",
    "def find_max(list):\n",
    "\n",
    "    return max(list)\n",
    "  \n",
    "\n",
    "find_max(list)"
   ]
  },
  {
   "cell_type": "code",
   "execution_count": null,
   "metadata": {},
   "outputs": [
    {
     "name": "stdout",
     "output_type": "stream",
     "text": [
      "7\n"
     ]
    }
   ],
   "source": [
    "def list_length(list):\n",
    "    count = 0\n",
    "    for x in list:\n",
    "        count += 1\n",
    "    return count\n",
    "list= str(input(\"Enter a list: \"))\n",
    "print(list_length(list))"
   ]
  },
  {
   "cell_type": "code",
   "execution_count": null,
   "metadata": {},
   "outputs": [
    {
     "name": "stdout",
     "output_type": "stream",
     "text": [
      "[1, 2, 3, 4, 5]\n"
     ]
    }
   ],
   "source": [
    "def copy(list):\n",
    "    list1 = list[:]\n",
    "    return list1\n",
    "list= [1,2,3,4,5]\n",
    "print(copy(list))"
   ]
  },
  {
   "cell_type": "code",
   "execution_count": null,
   "metadata": {},
   "outputs": [
    {
     "name": "stdout",
     "output_type": "stream",
     "text": [
      "{1, 2, 3, 4}\n"
     ]
    }
   ],
   "source": [
    "set1 = {1, 2, 3, 4, 5}\n",
    "\n",
    "def remove(set1):\n",
    "    set2 = list(set1)\n",
    "    set2.pop()\n",
    "    return set2\n",
    "\n",
    "print(set(remove(set1)))"
   ]
  },
  {
   "cell_type": "code",
   "execution_count": null,
   "metadata": {},
   "outputs": [
    {
     "name": "stdout",
     "output_type": "stream",
     "text": [
      "False\n"
     ]
    }
   ],
   "source": [
    "set1 = {1, 2, 3, 4, 5}\n",
    "set2 = {6, 7, 8, 9, 10, 1}\n",
    "def compare(set1, set2):\n",
    "    for x in set1:\n",
    "        if x not in set2:\n",
    "            return False\n",
    "    return False\n",
    "    \n",
    "print(compare(set1, set2))\n"
   ]
  },
  {
   "cell_type": "code",
   "execution_count": null,
   "metadata": {},
   "outputs": [
    {
     "name": "stdout",
     "output_type": "stream",
     "text": [
      "set()\n"
     ]
    }
   ],
   "source": [
    "set1 = {1, 2, 3, 4, 5}\n",
    "def remove(set1):\n",
    "    set1. clear()\n",
    "    return set1\n",
    "\n",
    "print(remove(set1))\n"
   ]
  },
  {
   "cell_type": "code",
   "execution_count": null,
   "metadata": {},
   "outputs": [
    {
     "name": "stdout",
     "output_type": "stream",
     "text": [
      "the maximum number is:  5 and the minimum number is:  1\n"
     ]
    }
   ],
   "source": [
    "\n",
    "def find_max(set1):\n",
    "    set1 = list(set1)\n",
    "\n",
    "    return max(set1)\n",
    "  \n",
    "\n",
    "def find_min(set1):\n",
    "    set1 = list(set1)\n",
    "    return min(set1)\n",
    "  \n",
    "\n",
    "set1 = {1, 2, 3, 4, 5}\n",
    "print(\"the maximum number is: \", find_max(set1),\"and the minimum number is: \", find_min(set1))"
   ]
  },
  {
   "cell_type": "code",
   "execution_count": null,
   "metadata": {},
   "outputs": [
    {
     "name": "stdout",
     "output_type": "stream",
     "text": [
      "4\n"
     ]
    }
   ],
   "source": [
    "tuple1 = (1, 2, 3, 4, 5, 6, 7, 8, 9, 10)\n",
    "y= list(tuple1)\n",
    "x= y.index(5)\n",
    "print(x)"
   ]
  },
  {
   "cell_type": "code",
   "execution_count": null,
   "metadata": {},
   "outputs": [
    {
     "name": "stdout",
     "output_type": "stream",
     "text": [
      "{1: 'one', 2: 'two', 3: 'three'}\n"
     ]
    }
   ],
   "source": [
    "tuple1 = ((1, \"one\"), (2, \"two\"), (3, \"three\"))\n",
    "z =dict(tuple1)\n",
    "print(z)"
   ]
  },
  {
   "cell_type": "code",
   "execution_count": null,
   "metadata": {},
   "outputs": [
    {
     "name": "stdout",
     "output_type": "stream",
     "text": [
      "[(1, 'one')]\n",
      "[(2, 'two')]\n",
      "[(3, 'three')]\n"
     ]
    }
   ],
   "source": [
    "list1= [(1, \"one\"), (2, \"two\"), (3, \"three\")]\n",
    "for x in list1:\n",
    "    print([x])\n",
    "\n",
    "    "
   ]
  },
  {
   "cell_type": "code",
   "execution_count": null,
   "metadata": {},
   "outputs": [
    {
     "name": "stdout",
     "output_type": "stream",
     "text": [
      "(10, 9, 8, 7, 6, 5, 4, 3, 2, 1)\n"
     ]
    }
   ],
   "source": [
    "tuple1 = (1, 2, 3, 4, 5, 6, 7, 8, 9, 10)\n",
    "y= list(tuple1)\n",
    "y.reverse()\n",
    "x= tuple(y)\n",
    "print(x)"
   ]
  },
  {
   "cell_type": "code",
   "execution_count": null,
   "metadata": {},
   "outputs": [
    {
     "name": "stdout",
     "output_type": "stream",
     "text": [
      "{1: 'one', 2: 'two', 3: 'three'}\n"
     ]
    }
   ],
   "source": [
    "list1= [(1, \"one\"), (2, \"two\"), (3, \"three\")]\n",
    "x = dict(list1)\n",
    "print(x)"
   ]
  },
  {
   "cell_type": "code",
   "execution_count": 6,
   "metadata": {},
   "outputs": [
    {
     "name": "stdout",
     "output_type": "stream",
     "text": [
      "[(1, 2, 10), (4, 5, 10), (7, 8, 10)]\n"
     ]
    }
   ],
   "source": [
    "list1 = [(1, 2, 3), (4, 5, 6), (7, 8, 9)]  \n",
    "\n",
    "def convert(lst):\n",
    "    new_list = []\n",
    "    for t in lst:\n",
    "        temp = list(t)  \n",
    "        temp[2] = 10\n",
    "        new_list.append(tuple(temp)) \n",
    "    return new_list\n",
    "\n",
    "list1 = convert(list1)  \n",
    "print(list1)\n"
   ]
  },
  {
   "cell_type": "code",
   "execution_count": 7,
   "metadata": {},
   "outputs": [
    {
     "name": "stdout",
     "output_type": "stream",
     "text": [
      "(1, 2, 3, 4, 5, 6, 7, 8, 9, 10)\n"
     ]
    }
   ],
   "source": [
    "tuple1 = (1, 2, 3, 4, 5, 6, 7, 8, 9, 10)\n",
    "y= list(tuple1)\n",
    "y.sort()\n",
    "x= tuple(y)\n",
    "print(x)"
   ]
  }
 ],
 "metadata": {
  "kernelspec": {
   "display_name": "Python 3",
   "language": "python",
   "name": "python3"
  },
  "language_info": {
   "codemirror_mode": {
    "name": "ipython",
    "version": 3
   },
   "file_extension": ".py",
   "mimetype": "text/x-python",
   "name": "python",
   "nbconvert_exporter": "python",
   "pygments_lexer": "ipython3",
   "version": "3.11.9"
  }
 },
 "nbformat": 4,
 "nbformat_minor": 2
}
